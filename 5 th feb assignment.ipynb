{
 "cells": [
  {
   "cell_type": "code",
   "execution_count": 1,
   "id": "159bd853-9efc-4a3b-b4ff-cb0c66ad9cb9",
   "metadata": {},
   "outputs": [],
   "source": [
    "# Q1. Explain Class and Object with respect to Object-Oriented Programming. Give a suitable example."
   ]
  },
  {
   "cell_type": "code",
   "execution_count": 2,
   "id": "26237038-cc6e-46f3-a833-f49a2e3a0e03",
   "metadata": {},
   "outputs": [],
   "source": [
    "# Ans\n",
    "# A class is blueprint to creating a object,a kind of template that defines the properties \n",
    "# and behaviors that objects of the class all share. \n",
    "# An object is an instance of a class. It is created using the class as a blueprint, \n",
    "# and is the physical or concrete manifestation of the class in memory."
   ]
  },
  {
   "cell_type": "code",
   "execution_count": 3,
   "id": "0dda5eb7-a7d0-4e0c-8a54-08674a434457",
   "metadata": {},
   "outputs": [],
   "source": [
    "# for an example\n",
    "class car:\n",
    "    def __init__ (self, colour, model, mileage):\n",
    "        self.colour=colour\n",
    "        self.model=model\n",
    "        self.mileage=mileage\n",
    "        \n",
    "    def return_car_details(self):\n",
    "        return self.colour, self.model, self.mileage\n",
    "                    \n",
    "        "
   ]
  },
  {
   "cell_type": "code",
   "execution_count": 4,
   "id": "0c84f04b-9cf2-4017-8690-2870cc008598",
   "metadata": {},
   "outputs": [
    {
     "ename": "TypeError",
     "evalue": "car.__init__() missing 3 required positional arguments: 'colour', 'model', and 'mileage'",
     "output_type": "error",
     "traceback": [
      "\u001b[0;31m---------------------------------------------------------------------------\u001b[0m",
      "\u001b[0;31mTypeError\u001b[0m                                 Traceback (most recent call last)",
      "Cell \u001b[0;32mIn[4], line 1\u001b[0m\n\u001b[0;32m----> 1\u001b[0m audy_car\u001b[38;5;241m=\u001b[39m\u001b[43mcar\u001b[49m\u001b[43m(\u001b[49m\u001b[43m)\u001b[49m\n",
      "\u001b[0;31mTypeError\u001b[0m: car.__init__() missing 3 required positional arguments: 'colour', 'model', and 'mileage'"
     ]
    }
   ],
   "source": [
    "audy_car=car()"
   ]
  },
  {
   "cell_type": "code",
   "execution_count": 9,
   "id": "37fac643-b124-4004-9bca-042546ee90d1",
   "metadata": {},
   "outputs": [],
   "source": [
    "audy_car=car(\"red\" , \"audi76\" , \"80km/l\")"
   ]
  },
  {
   "cell_type": "code",
   "execution_count": 10,
   "id": "6064de05-5773-44b8-9fcb-65e916b78914",
   "metadata": {},
   "outputs": [
    {
     "data": {
      "text/plain": [
       "('red', 'audi76', '80km/l')"
      ]
     },
     "execution_count": 10,
     "metadata": {},
     "output_type": "execute_result"
    }
   ],
   "source": [
    "audy_car.return_car_details()"
   ]
  },
  {
   "cell_type": "code",
   "execution_count": 11,
   "id": "001caed9-4006-4e31-b9b4-55d91f93e671",
   "metadata": {},
   "outputs": [],
   "source": [
    "# this code define 'car' calss tha have properties 'colour', 'model' and 'mileage'. The it create an object of the  'car' calass called\n",
    "# 'audy_car' and sets is properties."
   ]
  },
  {
   "cell_type": "code",
   "execution_count": 12,
   "id": "19b356ed-b136-4508-8e86-c60721a002ac",
   "metadata": {},
   "outputs": [],
   "source": [
    "# Q2. Name the four pillars of OOPs."
   ]
  },
  {
   "cell_type": "code",
   "execution_count": 13,
   "id": "5770f1c3-36fe-4b2c-ad63-52842b9dbe3e",
   "metadata": {},
   "outputs": [],
   "source": [
    "# ANS= four pillar of oops are:\n",
    "# abstraction\n",
    "# encapsulation\n",
    "# inheritance\n",
    "# polymorphism"
   ]
  },
  {
   "cell_type": "code",
   "execution_count": 14,
   "id": "a9df444e-d76b-4846-b265-3c83a6dcc241",
   "metadata": {},
   "outputs": [],
   "source": [
    "# Q3. Explain why the __init__() function is used. Give a suitable example."
   ]
  },
  {
   "cell_type": "code",
   "execution_count": 16,
   "id": "217d575a-3459-4c04-a35b-517596f78119",
   "metadata": {},
   "outputs": [],
   "source": [
    "#ans   __init__ is a counstructor who takes data according to the object detail.\n",
    "class Person:\n",
    "    def __init__(self, name, age, gender):\n",
    "        self.name = name\n",
    "        self.age = age\n",
    "        self.gender = gender\n",
    "\n",
    "\n",
    "\n",
    "\n"
   ]
  },
  {
   "cell_type": "code",
   "execution_count": 17,
   "id": "0328b6a7-7878-403e-a6b1-b68a11149a7d",
   "metadata": {},
   "outputs": [],
   "source": [
    "person1 = Person(\"John\", 32, \"Male\")\n",
    "\n"
   ]
  },
  {
   "cell_type": "code",
   "execution_count": 18,
   "id": "b8744936-ffd7-4f3f-875f-8103e256866f",
   "metadata": {},
   "outputs": [
    {
     "name": "stdout",
     "output_type": "stream",
     "text": [
      "John\n",
      "32\n",
      "Male\n"
     ]
    }
   ],
   "source": [
    "\n",
    "print(person1.name)\n",
    "print(person1.age)\n",
    "print(person1.gender)"
   ]
  },
  {
   "cell_type": "code",
   "execution_count": 19,
   "id": "3d3322d6-0440-4097-a1e5-5e72970908d8",
   "metadata": {},
   "outputs": [],
   "source": [
    "# Q4. Why self is used in OOPs?"
   ]
  },
  {
   "cell_type": "code",
   "execution_count": 21,
   "id": "9b9b19c0-e0ab-44a6-957b-c1bd3a6eceef",
   "metadata": {},
   "outputs": [],
   "source": [
    "# Ans= self is used to connect our data with class.\n",
    "# The self keyword is used in method definitions inside a class to refer to \n",
    "# the instance of the object that the method is being called on."
   ]
  },
  {
   "cell_type": "code",
   "execution_count": 22,
   "id": "fe8ec4b2-15ba-4580-9562-46716d253207",
   "metadata": {},
   "outputs": [],
   "source": [
    "# Q5. What is inheritance? Give an example for each type of inheritance."
   ]
  },
  {
   "cell_type": "code",
   "execution_count": 23,
   "id": "2566f9da-9fcf-42fa-997f-1e0d37b12c54",
   "metadata": {},
   "outputs": [],
   "source": [
    "# Ans = when we inherits all data of different class to any other class that called inheritance\n",
    "# example 1 multilabel inheritance"
   ]
  },
  {
   "cell_type": "code",
   "execution_count": 24,
   "id": "17e439ed-9c13-445c-aa99-448e14109c60",
   "metadata": {},
   "outputs": [],
   "source": [
    "class class1:\n",
    "    def test_class(self):\n",
    "        return\"we need to learn\"\n",
    "        "
   ]
  },
  {
   "cell_type": "code",
   "execution_count": 25,
   "id": "568005a1-8def-4a36-9158-98c8e6e2cf7b",
   "metadata": {},
   "outputs": [],
   "source": [
    "class class2(class1):\n",
    "    pass "
   ]
  },
  {
   "cell_type": "code",
   "execution_count": 26,
   "id": "96c62456-92e9-4559-839a-dd6ce6127f6c",
   "metadata": {},
   "outputs": [],
   "source": [
    "obj_class1=class2()"
   ]
  },
  {
   "cell_type": "code",
   "execution_count": 28,
   "id": "c15579e3-bd6e-474f-a267-9c9e0afbfed5",
   "metadata": {},
   "outputs": [
    {
     "data": {
      "text/plain": [
       "'we need to learn'"
      ]
     },
     "execution_count": 28,
     "metadata": {},
     "output_type": "execute_result"
    }
   ],
   "source": [
    "obj_class1.test_class()"
   ]
  },
  {
   "cell_type": "code",
   "execution_count": 29,
   "id": "3e346d67-a10a-4885-a6d3-90ca776c75b4",
   "metadata": {},
   "outputs": [],
   "source": [
    "# example 2 multiple heritance"
   ]
  },
  {
   "cell_type": "code",
   "execution_count": 30,
   "id": "47811fdf-4255-40fb-9832-c805abae5c7e",
   "metadata": {},
   "outputs": [],
   "source": [
    "class class3:\n",
    "    def test_class1(self):\n",
    "        return\"we need to practice more\""
   ]
  },
  {
   "cell_type": "code",
   "execution_count": 37,
   "id": "c0ef2fd5-5219-431f-9d6e-5b81b5738983",
   "metadata": {},
   "outputs": [],
   "source": [
    "class class4:\n",
    "    def test_class2(self):\n",
    "        return\"do hardwork\""
   ]
  },
  {
   "cell_type": "code",
   "execution_count": 38,
   "id": "285f8e22-e12b-4105-a862-98c9144144ee",
   "metadata": {},
   "outputs": [],
   "source": [
    "class class5(class3, class4):\n",
    "    pass"
   ]
  },
  {
   "cell_type": "code",
   "execution_count": 39,
   "id": "9aba0379-4c42-414f-8b4c-b56fc080ee93",
   "metadata": {},
   "outputs": [],
   "source": [
    "saket=class5"
   ]
  },
  {
   "cell_type": "code",
   "execution_count": 42,
   "id": "55fc992a-220a-4b06-97a6-cec9ea0f3d12",
   "metadata": {},
   "outputs": [
    {
     "ename": "TypeError",
     "evalue": "class3.test_class1() missing 1 required positional argument: 'self'",
     "output_type": "error",
     "traceback": [
      "\u001b[0;31m---------------------------------------------------------------------------\u001b[0m",
      "\u001b[0;31mTypeError\u001b[0m                                 Traceback (most recent call last)",
      "Cell \u001b[0;32mIn[42], line 1\u001b[0m\n\u001b[0;32m----> 1\u001b[0m \u001b[43msaket\u001b[49m\u001b[38;5;241;43m.\u001b[39;49m\u001b[43mtest_class1\u001b[49m\u001b[43m(\u001b[49m\u001b[43m)\u001b[49m\n",
      "\u001b[0;31mTypeError\u001b[0m: class3.test_class1() missing 1 required positional argument: 'self'"
     ]
    }
   ],
   "source": [
    "saket.test_class1()"
   ]
  },
  {
   "cell_type": "code",
   "execution_count": null,
   "id": "7c8c6845-7af1-495e-b21c-e7511dca3ca4",
   "metadata": {},
   "outputs": [],
   "source": []
  }
 ],
 "metadata": {
  "kernelspec": {
   "display_name": "Python 3 (ipykernel)",
   "language": "python",
   "name": "python3"
  },
  "language_info": {
   "codemirror_mode": {
    "name": "ipython",
    "version": 3
   },
   "file_extension": ".py",
   "mimetype": "text/x-python",
   "name": "python",
   "nbconvert_exporter": "python",
   "pygments_lexer": "ipython3",
   "version": "3.10.8"
  }
 },
 "nbformat": 4,
 "nbformat_minor": 5
}
